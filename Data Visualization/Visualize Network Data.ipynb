{
 "cells": [
  {
   "cell_type": "code",
   "execution_count": 1,
   "id": "2a8df553",
   "metadata": {},
   "outputs": [],
   "source": [
    "from pyvis.network import Network\n",
    "import pandas as pd"
   ]
  },
  {
   "cell_type": "code",
   "execution_count": 2,
   "id": "5f905dc8",
   "metadata": {},
   "outputs": [],
   "source": [
    "df = pd.read_csv(\"dp.csv\")"
   ]
  },
  {
   "cell_type": "code",
   "execution_count": 3,
   "id": "5a788b06",
   "metadata": {},
   "outputs": [
    {
     "data": {
      "text/html": [
       "<div>\n",
       "<style scoped>\n",
       "    .dataframe tbody tr th:only-of-type {\n",
       "        vertical-align: middle;\n",
       "    }\n",
       "\n",
       "    .dataframe tbody tr th {\n",
       "        vertical-align: top;\n",
       "    }\n",
       "\n",
       "    .dataframe thead th {\n",
       "        text-align: right;\n",
       "    }\n",
       "</style>\n",
       "<table border=\"1\" class=\"dataframe\">\n",
       "  <thead>\n",
       "    <tr style=\"text-align: right;\">\n",
       "      <th></th>\n",
       "      <th>index</th>\n",
       "      <th>Ben</th>\n",
       "      <th>Kate</th>\n",
       "      <th>Thinh</th>\n",
       "      <th>Jorge</th>\n",
       "      <th>Alfredo</th>\n",
       "      <th>Francisco</th>\n",
       "      <th>Olivia</th>\n",
       "      <th>Chris</th>\n",
       "    </tr>\n",
       "  </thead>\n",
       "  <tbody>\n",
       "    <tr>\n",
       "      <th>0</th>\n",
       "      <td>Ben</td>\n",
       "      <td>0</td>\n",
       "      <td>0</td>\n",
       "      <td>3</td>\n",
       "      <td>3</td>\n",
       "      <td>7</td>\n",
       "      <td>9</td>\n",
       "      <td>3</td>\n",
       "      <td>5</td>\n",
       "    </tr>\n",
       "    <tr>\n",
       "      <th>1</th>\n",
       "      <td>Kate</td>\n",
       "      <td>2</td>\n",
       "      <td>0</td>\n",
       "      <td>7</td>\n",
       "      <td>6</td>\n",
       "      <td>8</td>\n",
       "      <td>8</td>\n",
       "      <td>1</td>\n",
       "      <td>6</td>\n",
       "    </tr>\n",
       "    <tr>\n",
       "      <th>2</th>\n",
       "      <td>Thinh</td>\n",
       "      <td>7</td>\n",
       "      <td>7</td>\n",
       "      <td>0</td>\n",
       "      <td>1</td>\n",
       "      <td>5</td>\n",
       "      <td>9</td>\n",
       "      <td>8</td>\n",
       "      <td>9</td>\n",
       "    </tr>\n",
       "    <tr>\n",
       "      <th>3</th>\n",
       "      <td>Jorge</td>\n",
       "      <td>4</td>\n",
       "      <td>3</td>\n",
       "      <td>0</td>\n",
       "      <td>0</td>\n",
       "      <td>5</td>\n",
       "      <td>0</td>\n",
       "      <td>2</td>\n",
       "      <td>3</td>\n",
       "    </tr>\n",
       "    <tr>\n",
       "      <th>4</th>\n",
       "      <td>Alfredo</td>\n",
       "      <td>8</td>\n",
       "      <td>1</td>\n",
       "      <td>3</td>\n",
       "      <td>3</td>\n",
       "      <td>0</td>\n",
       "      <td>7</td>\n",
       "      <td>0</td>\n",
       "      <td>1</td>\n",
       "    </tr>\n",
       "    <tr>\n",
       "      <th>5</th>\n",
       "      <td>Francisco</td>\n",
       "      <td>9</td>\n",
       "      <td>9</td>\n",
       "      <td>0</td>\n",
       "      <td>4</td>\n",
       "      <td>7</td>\n",
       "      <td>0</td>\n",
       "      <td>2</td>\n",
       "      <td>7</td>\n",
       "    </tr>\n",
       "    <tr>\n",
       "      <th>6</th>\n",
       "      <td>Olivia</td>\n",
       "      <td>2</td>\n",
       "      <td>0</td>\n",
       "      <td>0</td>\n",
       "      <td>4</td>\n",
       "      <td>5</td>\n",
       "      <td>5</td>\n",
       "      <td>0</td>\n",
       "      <td>8</td>\n",
       "    </tr>\n",
       "    <tr>\n",
       "      <th>7</th>\n",
       "      <td>Chris</td>\n",
       "      <td>4</td>\n",
       "      <td>1</td>\n",
       "      <td>4</td>\n",
       "      <td>9</td>\n",
       "      <td>8</td>\n",
       "      <td>1</td>\n",
       "      <td>1</td>\n",
       "      <td>0</td>\n",
       "    </tr>\n",
       "  </tbody>\n",
       "</table>\n",
       "</div>"
      ],
      "text/plain": [
       "       index  Ben   Kate   Thinh  Jorge  Alfredo  Francisco  Olivia  Chris\n",
       "0        Ben     0      0      3      3        7          9       3      5\n",
       "1       Kate     2      0      7      6        8          8       1      6\n",
       "2      Thinh     7      7      0      1        5          9       8      9\n",
       "3      Jorge     4      3      0      0        5          0       2      3\n",
       "4    Alfredo     8      1      3      3        0          7       0      1\n",
       "5  Francisco     9      9      0      4        7          0       2      7\n",
       "6     Olivia     2      0      0      4        5          5       0      8\n",
       "7      Chris     4      1      4      9        8          1       1      0"
      ]
     },
     "execution_count": 3,
     "metadata": {},
     "output_type": "execute_result"
    }
   ],
   "source": [
    "df"
   ]
  },
  {
   "cell_type": "code",
   "execution_count": 4,
   "id": "4b7a01dc",
   "metadata": {},
   "outputs": [],
   "source": [
    "net = Network(notebook=True, height='700px', width='700px')"
   ]
  },
  {
   "cell_type": "code",
   "execution_count": 5,
   "id": "602258e1",
   "metadata": {},
   "outputs": [],
   "source": [
    "net.add_node(1, label=\"Ben\", color=\"black\")\n",
    "net.add_node(2, label=\"Kate\", color=\"red\")\n",
    "net.add_node(3, label=\"Thinh\", color=\"yellow\")\n",
    "net.add_node(4, label=\"Jorge\", color=\"green\")\n",
    "net.add_node(5, label=\"Alfredo\", color=\"blue\")\n",
    "net.add_node(6, label=\"Francisco\", color=\"grey\")\n",
    "net.add_node(7, label=\"Olivia\", color=\"orange\")\n",
    "net.add_node(8, label=\"Chris\", color=\"purple\")"
   ]
  },
  {
   "cell_type": "code",
   "execution_count": 6,
   "id": "abc1de3f",
   "metadata": {},
   "outputs": [],
   "source": [
    "net.add_edges([(1,2,2),(1,3,7),(1,4,4),(1,5,8),(1,6,9),(1,7,2),(1,8,1)]) #Ben\n",
    "net.add_edges([(2,1,0),(2,3,7),(2,4,3),(2,5,1),(2,6,9),(2,7,0),(2,8,1)]) #Kate\n",
    "net.add_edges([(3,1,3),(3,2,7),(3,4,0),(3,5,3),(3,6,0),(3,7,0),(3,8,4)]) #Thinh\n",
    "#net.add_edges([(4,1,0),(4,2),(4,3),(4,5,),(4,6,),(4,7,0),(4,8,1)])\n",
    "#net.add_edges([(5,1,),(5,2,),(5,3),(5,4),(5,6),(5,7),(5,8,)])"
   ]
  },
  {
   "cell_type": "code",
   "execution_count": 7,
   "id": "7f0cf799",
   "metadata": {},
   "outputs": [],
   "source": [
    "net.repulsion(node_distance=200, spring_length=500)"
   ]
  },
  {
   "cell_type": "code",
   "execution_count": 8,
   "id": "3ba37cdb",
   "metadata": {},
   "outputs": [
    {
     "data": {
      "text/html": [
       "\n",
       "        <iframe\n",
       "            width=\"700px\"\n",
       "            height=\"700px\"\n",
       "            src=\"nodes.html\"\n",
       "            frameborder=\"0\"\n",
       "            allowfullscreen\n",
       "        ></iframe>\n",
       "        "
      ],
      "text/plain": [
       "<IPython.lib.display.IFrame at 0x1b6c8d0e070>"
      ]
     },
     "execution_count": 8,
     "metadata": {},
     "output_type": "execute_result"
    }
   ],
   "source": [
    "net.show(\"nodes.html\")"
   ]
  },
  {
   "cell_type": "code",
   "execution_count": 9,
   "id": "f0983bed",
   "metadata": {},
   "outputs": [],
   "source": [
    "# net = Network(notebook=True)\n",
    "# net.add_nodes([1, 2], label=['Alex', 'Carthy'])\n",
    "# net.show('list_of_nodes.html')"
   ]
  },
  {
   "cell_type": "code",
   "execution_count": null,
   "id": "720a12c3",
   "metadata": {},
   "outputs": [],
   "source": []
  }
 ],
 "metadata": {
  "kernelspec": {
   "display_name": "Python 3",
   "language": "python",
   "name": "python3"
  },
  "language_info": {
   "codemirror_mode": {
    "name": "ipython",
    "version": 3
   },
   "file_extension": ".py",
   "mimetype": "text/x-python",
   "name": "python",
   "nbconvert_exporter": "python",
   "pygments_lexer": "ipython3",
   "version": "3.8.8"
  }
 },
 "nbformat": 4,
 "nbformat_minor": 5
}
