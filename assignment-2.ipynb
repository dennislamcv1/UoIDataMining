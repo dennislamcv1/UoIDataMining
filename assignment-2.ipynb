{
 "cells": [
  {
   "cell_type": "markdown",
   "metadata": {
    "colab_type": "text",
    "id": "2CV34UsON7Ic"
   },
   "source": [
    "# Programming Assignment: Implementing Clustering Validation Measures\n",
    "\n",
    "## Cluster Analysis in Data Mining Course - Coursera\n",
    "\n",
    "* Author: Michael Onishi\n",
    "* Date: October 30th, 2019"
   ]
  },
  {
   "cell_type": "markdown",
   "metadata": {
    "colab_type": "text",
    "id": "ioZUy0CcJxUk"
   },
   "source": [
    "## Description\n",
    "In this assignment, you will be implementing two clustering validation measures: Normalized Mutual Information (NMI) and Jaccard similarity.\n",
    "\n",
    "You will be given one ground-truth clustering (partition) results and five clustering test cases. You need to evaluate the clustering test cases with regard to the ground-truth by NMI and Jaccard measures and submit your measures. You will be graded based on whether your measures are correct.\n",
    "\n",
    "The ground-truth clustering (partition) results are stored in file \"partitions.txt\"; the five clustering result test cases are stored in file \"clustering_1.txt\", ..., \"clustering_5.txt\".\n",
    "\n",
    "All files including partitions.txt, clustering_1.txt, ..., can be downloaded from the data.zip file attached below.\n",
    "\n",
    "Each clustering result (both ground-truth and test cases) is represented by a file. Each line in a file consists of two integers, separated by a space. The first integer represents the id of a data item, and the second integer represents the id of the cluster which this item belongs to.\n",
    "\n",
    "You need to submit a file titled \"scores.txt\" consisting of 5 lines. Each line contains two float numbers separated by a space. The first number of the i-th line represents the NMI measure you calculated for the i-th test case i (i.e. \"clustering_i.txt\") with regard to the ground-truth given in \"partitions.txt\", and the second number of the i-th line represents the Jaccard measure you calculated for the i-th test case.\n",
    "\n",
    "As an example, a valid submission may look like:\n",
    "\n",
    "<pre>\n",
    "0.1000000 0.2000000\n",
    "0.3000000 0.4000000\n",
    "0.5000000 0.6000000\n",
    "0.7000000 0.8000000\n",
    "0.9000000 1.0000000\n",
    "</pre>\n",
    "\n",
    "You will be graded based on whether your file format is correct and onhow many measures you submitted are correct.\n",
    "\n"
   ]
  },
  {
   "cell_type": "code",
   "execution_count": 1,
   "metadata": {
    "colab": {
     "base_uri": "https://localhost:8080/",
     "height": 462
    },
    "colab_type": "code",
    "id": "5OEFFBil3T6o",
    "outputId": "430d6e12-7db0-4bb3-fc50-6b6de7a050e7"
   },
   "outputs": [],
   "source": [
    "# ! wget -O data.zip \"https://d3c33hcgiwev3.cloudfront.net/_75cb9c8852d35d351cb44551fcd26d3a_data.zip?Expires=1572480000&Signature=QpJh7T~xz7k8jXn7ZRrxnc8mJpQMOCzq-dUREztP0w-aWKjw8CuDSo9QHUIIAbW5whFKBZUtmTnkXveEEbuFVTjPOvpNiVoHMwsTHvABM82dzMsxiS0juyonnxk~Xzr5rkpm6pCdusgzULbBsvMyxik7yYL2zmARk~UsK9LGNlw_&Key-Pair-Id=APKAJLTNE6QMUY6HBC5A\"\n",
    "# ! unzip data.zip"
   ]
  },
  {
   "cell_type": "code",
   "execution_count": 2,
   "metadata": {
    "colab": {},
    "colab_type": "code",
    "id": "00L3IhONPp0I"
   },
   "outputs": [],
   "source": [
    "import pandas as pd\n",
    "import numpy as np\n",
    "import math\n",
    "\n",
    "# number of combinations for calculation Jaccard\n",
    "def nCr(n,r):\n",
    "  if n-r == 0:\n",
    "    return 1\n",
    "  if n-r < 0:\n",
    "    return 0\n",
    "  f = math.factorial\n",
    "  return f(n) // f(r) // f(n-r)\n",
    "\n",
    "column_names = []\n",
    "records = {}\n",
    "with open('partitions.txt') as in_file:\n",
    "  column_names.append(in_file.name[:-4])\n",
    "  for line in in_file:\n",
    "    r = line.strip().split()\n",
    "    records[int(r[0])] = [int(r[1])]\n",
    "\n",
    "for i in range(1, 6):\n",
    "  with open(f'clustering_{i}.txt') as in_file:\n",
    "    column_names.append(in_file.name[:-4])\n",
    "    for line in in_file:\n",
    "      r = line.strip().split()\n",
    "      records[int(r[0])].append(int(r[1]))  "
   ]
  },
  {
   "cell_type": "code",
   "execution_count": 3,
   "metadata": {
    "colab": {
     "base_uri": "https://localhost:8080/",
     "height": 88
    },
    "colab_type": "code",
    "id": "WeqkyQV-dd6H",
    "outputId": "1e30b971-9476-48ef-e931-f2b588daec66"
   },
   "outputs": [
    {
     "name": "stdout",
     "output_type": "stream",
     "text": [
      "[(1, [2, 2, 2, 2, 2, 0]), (2, [0, 0, 0, 0, 0, 0]), (3, [2, 2, 1, 1, 2, 0]), (4, [1, 1, 1, 1, 1, 1]), (5, [2, 2, 2, 2, 2, 0])]\n",
      "['partitions', 'clustering_1', 'clustering_2', 'clustering_3', 'clustering_4', 'clustering_5']\n",
      "300\n"
     ]
    }
   ],
   "source": [
    "print(list(records.items())[:5])\n",
    "print(column_names)\n",
    "print(len(records))"
   ]
  },
  {
   "cell_type": "code",
   "execution_count": 4,
   "metadata": {
    "colab": {},
    "colab_type": "code",
    "id": "bnGTnmcEht09"
   },
   "outputs": [],
   "source": [
    "N = len(records)\n",
    "df = pd.DataFrame(data = records.values(), index = records.keys(), columns = column_names)"
   ]
  },
  {
   "cell_type": "code",
   "execution_count": 5,
   "metadata": {
    "colab": {
     "base_uri": "https://localhost:8080/",
     "height": 204
    },
    "colab_type": "code",
    "id": "4XpTZnetrB_G",
    "outputId": "bdc29d0a-d9b5-4623-e7d9-6291bdd2db84"
   },
   "outputs": [
    {
     "data": {
      "text/html": [
       "<div>\n",
       "<style scoped>\n",
       "    .dataframe tbody tr th:only-of-type {\n",
       "        vertical-align: middle;\n",
       "    }\n",
       "\n",
       "    .dataframe tbody tr th {\n",
       "        vertical-align: top;\n",
       "    }\n",
       "\n",
       "    .dataframe thead th {\n",
       "        text-align: right;\n",
       "    }\n",
       "</style>\n",
       "<table border=\"1\" class=\"dataframe\">\n",
       "  <thead>\n",
       "    <tr style=\"text-align: right;\">\n",
       "      <th></th>\n",
       "      <th>partitions</th>\n",
       "      <th>clustering_1</th>\n",
       "      <th>clustering_2</th>\n",
       "      <th>clustering_3</th>\n",
       "      <th>clustering_4</th>\n",
       "      <th>clustering_5</th>\n",
       "    </tr>\n",
       "  </thead>\n",
       "  <tbody>\n",
       "    <tr>\n",
       "      <th>1</th>\n",
       "      <td>2</td>\n",
       "      <td>2</td>\n",
       "      <td>2</td>\n",
       "      <td>2</td>\n",
       "      <td>2</td>\n",
       "      <td>0</td>\n",
       "    </tr>\n",
       "    <tr>\n",
       "      <th>2</th>\n",
       "      <td>0</td>\n",
       "      <td>0</td>\n",
       "      <td>0</td>\n",
       "      <td>0</td>\n",
       "      <td>0</td>\n",
       "      <td>0</td>\n",
       "    </tr>\n",
       "    <tr>\n",
       "      <th>3</th>\n",
       "      <td>2</td>\n",
       "      <td>2</td>\n",
       "      <td>1</td>\n",
       "      <td>1</td>\n",
       "      <td>2</td>\n",
       "      <td>0</td>\n",
       "    </tr>\n",
       "    <tr>\n",
       "      <th>4</th>\n",
       "      <td>1</td>\n",
       "      <td>1</td>\n",
       "      <td>1</td>\n",
       "      <td>1</td>\n",
       "      <td>1</td>\n",
       "      <td>1</td>\n",
       "    </tr>\n",
       "    <tr>\n",
       "      <th>5</th>\n",
       "      <td>2</td>\n",
       "      <td>2</td>\n",
       "      <td>2</td>\n",
       "      <td>2</td>\n",
       "      <td>2</td>\n",
       "      <td>0</td>\n",
       "    </tr>\n",
       "  </tbody>\n",
       "</table>\n",
       "</div>"
      ],
      "text/plain": [
       "   partitions  clustering_1  clustering_2  clustering_3  clustering_4  \\\n",
       "1           2             2             2             2             2   \n",
       "2           0             0             0             0             0   \n",
       "3           2             2             1             1             2   \n",
       "4           1             1             1             1             1   \n",
       "5           2             2             2             2             2   \n",
       "\n",
       "   clustering_5  \n",
       "1             0  \n",
       "2             0  \n",
       "3             0  \n",
       "4             1  \n",
       "5             0  "
      ]
     },
     "execution_count": 5,
     "metadata": {},
     "output_type": "execute_result"
    }
   ],
   "source": [
    "df.head()"
   ]
  },
  {
   "cell_type": "code",
   "execution_count": 6,
   "metadata": {
    "colab": {},
    "colab_type": "code",
    "id": "lEEKPqiD81Zo"
   },
   "outputs": [],
   "source": [
    "nt = df.partitions.value_counts()\n",
    "nci = [(df[f'clustering_{i}'].value_counts()) for i in range(1,6)]\n",
    "pt = (nt / N)\n",
    "pci = [(nci[i] / N) for i in range(5)]"
   ]
  },
  {
   "cell_type": "code",
   "execution_count": 7,
   "metadata": {
    "colab": {
     "base_uri": "https://localhost:8080/",
     "height": 374
    },
    "colab_type": "code",
    "id": "42wSF4Z1-fXM",
    "outputId": "ce795cbc-de36-4d3e-a9ff-49375a3f05d2"
   },
   "outputs": [
    {
     "name": "stdout",
     "output_type": "stream",
     "text": [
      "0    100\n",
      "1    100\n",
      "2    100\n",
      "Name: partitions, dtype: int64\n",
      "[0    100\n",
      "1    100\n",
      "2    100\n",
      "Name: clustering_1, dtype: int64, 0    100\n",
      "1    100\n",
      "2    100\n",
      "Name: clustering_2, dtype: int64, 0    100\n",
      "1    100\n",
      "2    100\n",
      "Name: clustering_3, dtype: int64, 2    94\n",
      "0    92\n",
      "1    92\n",
      "3    12\n",
      "4    10\n",
      "Name: clustering_4, dtype: int64, 0    200\n",
      "1    100\n",
      "Name: clustering_5, dtype: int64]\n"
     ]
    }
   ],
   "source": [
    "print(nt)\n",
    "print(nci)"
   ]
  },
  {
   "cell_type": "code",
   "execution_count": 8,
   "metadata": {
    "colab": {},
    "colab_type": "code",
    "id": "i_-BRUFdugGg"
   },
   "outputs": [],
   "source": [
    "ans = []\n",
    "ht = -(pt*np.log2(pt)).sum()\n",
    "for k in range(1,6):\n",
    "  ict = 0.0\n",
    "  tp = 0.0\n",
    "  fn = 0.0\n",
    "  fp = 0.0\n",
    "\n",
    "  for j in pt.index:\n",
    "    fn += nCr(nt[j], 2)\n",
    "\n",
    "    for i in pci[k-1].index:\n",
    "      nij = len(df.query(f'partitions == {j} & clustering_{k} == {i}'))\n",
    "      pij = nij / N\n",
    "      #print(f'partitions == {j} & clustering_{k} == {i}', pij)\n",
    "      if nij > 0:\n",
    "        tp += nCr(nij, 2)\n",
    "        ict += pij * np.log2(pij/(pci[k-1][i] * pt[j]))\n",
    "  \n",
    "  for i in nci[k-1].index:\n",
    "    fp += nCr(nci[k-1][i], 2)\n",
    "\n",
    "  fn -= tp\n",
    "  fp -= tp\n",
    "  jaccard = tp / (tp + fn + fp)\n",
    "  hc = -(pci[k-1]*np.log2(pci[k-1])).sum()\n",
    "  ans.append([ict/np.sqrt(ht * hc), jaccard])"
   ]
  },
  {
   "cell_type": "code",
   "execution_count": 9,
   "metadata": {
    "colab": {
     "base_uri": "https://localhost:8080/",
     "height": 102
    },
    "colab_type": "code",
    "id": "3f-x-sZ2QquZ",
    "outputId": "c6bb25e7-1340-4d73-e26e-028ab1c81886"
   },
   "outputs": [
    {
     "data": {
      "text/plain": [
       "[[0.8896247665800591, 0.9116889804325438],\n",
       " [0.6456368113477221, 0.6794842795747569],\n",
       " [0.3915437463816927, 0.46493045279668543],\n",
       " [0.767789160690261, 0.8005979461848434],\n",
       " [0.7611702597222877, 0.5975855130784709]]"
      ]
     },
     "execution_count": 9,
     "metadata": {},
     "output_type": "execute_result"
    }
   ],
   "source": [
    "ans"
   ]
  },
  {
   "cell_type": "code",
   "execution_count": 10,
   "metadata": {
    "colab": {},
    "colab_type": "code",
    "id": "q86DNJDepICJ"
   },
   "outputs": [],
   "source": [
    "with open('scores.txt', 'w') as out_file:\n",
    "  for a in ans:\n",
    "    out_file.write(\" \".join(map(str,a)))\n",
    "    out_file.write(\"\\n\")"
   ]
  },
  {
   "cell_type": "code",
   "execution_count": 0,
   "metadata": {
    "colab": {},
    "colab_type": "code",
    "id": "VcdLgRjbntFG"
   },
   "outputs": [],
   "source": []
  }
 ],
 "metadata": {
  "colab": {
   "collapsed_sections": [],
   "name": "Cluster Analysis in Data Mining - Implementing Clustering Validation Measures.ipynb",
   "provenance": [],
   "toc_visible": true
  },
  "kernelspec": {
   "display_name": "Python 3",
   "language": "python",
   "name": "python3"
  },
  "language_info": {
   "codemirror_mode": {
    "name": "ipython",
    "version": 3
   },
   "file_extension": ".py",
   "mimetype": "text/x-python",
   "name": "python",
   "nbconvert_exporter": "python",
   "pygments_lexer": "ipython3",
   "version": "3.8.8"
  }
 },
 "nbformat": 4,
 "nbformat_minor": 1
}
