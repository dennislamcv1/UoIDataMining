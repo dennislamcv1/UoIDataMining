{
 "cells": [
  {
   "cell_type": "markdown",
   "metadata": {
    "colab_type": "text",
    "id": "2CV34UsON7Ic"
   },
   "source": [
    "# Programming Assignment: Frequent Itemset Mining Using Apriori\n",
    "\n",
    "## Pattern Discovery in Data Mining Course - Coursera\n",
    "\n",
    "* Author: Michael Onishi\n",
    "* Date: October 25th, 2019"
   ]
  },
  {
   "cell_type": "markdown",
   "metadata": {
    "colab_type": "text",
    "id": "ioZUy0CcJxUk"
   },
   "source": [
    "##Description\n",
    "In this programming assignment, you are required to implement the Apriori algorithm and apply it to mine frequent itemsets from a real-life data set.\n",
    "\n",
    "###Input\n",
    "The provided input file (\"categories.txt\") consists of the category lists of 77,185 places in the US. Each line corresponds to the category list of one place, where the list consists of a number of category instances (e.g., hotels, restaurants, etc.) that are separated by semicolons.\n",
    "\n",
    "An example line is provided below:\n",
    "\n",
    "Local Services;IT Services & Computer Repair\n",
    "\n",
    "In the example above, the corresponding place has two category instances: \"Local Services\" and \"IT Services & Computer Repair\".\n",
    "\n",
    "###Output\n",
    "You need to implement the Apriori algorithm and use it to mine category sets that are frequent in the input data. When implementing the Apriori algorithm, you may use any programming language you like. We only need your result pattern file, not your source code file.\n",
    "\n",
    "After implementing the Apriori algorithm, please set the relative minimum support to 0.01 and run it on the 77,185 category lists. In other words, you need to extract all the category sets that have an absolute support larger than 771."
   ]
  },
  {
   "cell_type": "code",
   "execution_count": 1,
   "metadata": {
    "colab": {
     "base_uri": "https://localhost:8080/",
     "height": 224
    },
    "colab_type": "code",
    "id": "5OEFFBil3T6o",
    "outputId": "85f79c81-e104-4488-ae78-75eaa1c01c65"
   },
   "outputs": [
    {
     "name": "stdout",
     "output_type": "stream",
     "text": [
      "--2019-10-25 23:22:44--  https://d3c33hcgiwev3.cloudfront.net/_9b0d0ff87935997de01d221fd74bae90_categories.txt?Expires=1572134400&Signature=F6r7BpI2rngHAiFXa58MCTGUczt-punzssytlUC6qjJQjgkdBnWwNAd0a0LDiLs2nPOV6YlPXESX1fuc7x4zsTVJONGubTQPl~aZ~A-xED6S7-4KxwZunqYTR6WoShC4lLm4fKYok3PgpIrtRV9~o6ev4~RPDvAA5oM91miMsmk_&Key-Pair-Id=APKAJLTNE6QMUY6HBC5A\n",
      "Resolving d3c33hcgiwev3.cloudfront.net (d3c33hcgiwev3.cloudfront.net)... 13.224.12.124, 13.224.12.5, 13.224.12.139, ...\n",
      "Connecting to d3c33hcgiwev3.cloudfront.net (d3c33hcgiwev3.cloudfront.net)|13.224.12.124|:443... connected.\n",
      "HTTP request sent, awaiting response... 200 OK\n",
      "Length: 2859008 (2.7M) [text/plain]\n",
      "Saving to: ‘categories.txt’\n",
      "\n",
      "categories.txt      100%[===================>]   2.73M  6.19MB/s    in 0.4s    \n",
      "\n",
      "2019-10-25 23:22:45 (6.19 MB/s) - ‘categories.txt’ saved [2859008/2859008]\n",
      "\n"
     ]
    }
   ],
   "source": [
    "! wget -O categories.txt \"https://d3c33hcgiwev3.cloudfront.net/_9b0d0ff87935997de01d221fd74bae90_categories.txt?Expires=1572134400&Signature=F6r7BpI2rngHAiFXa58MCTGUczt-punzssytlUC6qjJQjgkdBnWwNAd0a0LDiLs2nPOV6YlPXESX1fuc7x4zsTVJONGubTQPl~aZ~A-xED6S7-4KxwZunqYTR6WoShC4lLm4fKYok3PgpIrtRV9~o6ev4~RPDvAA5oM91miMsmk_&Key-Pair-Id=APKAJLTNE6QMUY6HBC5A\""
   ]
  },
  {
   "cell_type": "markdown",
   "metadata": {
    "colab_type": "text",
    "id": "4MT9jYB-JicZ"
   },
   "source": [
    "##Part 1\n",
    "\n",
    "Please output all the length-1 frequent categories with their absolute supports into a text file named \"patterns.txt\". Every line corresponds to exactly one frequent category and should be in the following format:\n",
    "\n",
    "support:category\n",
    "\n",
    "For example, suppose a category (Fast Food) has an absolute support 3000, then the line corresponding to this frequent category set in \"patterns.txt\" should be:\n",
    "\n",
    "3000:Fast Food"
   ]
  },
  {
   "cell_type": "code",
   "execution_count": 1,
   "metadata": {
    "colab": {},
    "colab_type": "code",
    "id": "qUsmTE-9GWDC"
   },
   "outputs": [],
   "source": [
    "import pandas as pd"
   ]
  },
  {
   "cell_type": "code",
   "execution_count": 2,
   "metadata": {
    "colab": {},
    "colab_type": "code",
    "id": "00L3IhONPp0I"
   },
   "outputs": [],
   "source": [
    "records = []\n",
    "with open('categories.txt') as in_file:\n",
    "  for line in in_file:\n",
    "    records.append(line.strip().split(\";\"))"
   ]
  },
  {
   "cell_type": "code",
   "execution_count": 3,
   "metadata": {
    "colab": {
     "base_uri": "https://localhost:8080/",
     "height": 34
    },
    "colab_type": "code",
    "id": "6MmnwEK5TXgT",
    "outputId": "72d736d0-305b-4141-da9f-8de5647af10f"
   },
   "outputs": [
    {
     "name": "stdout",
     "output_type": "stream",
     "text": [
      "771.85\n"
     ]
    }
   ],
   "source": [
    "minsup = 0.01 * len(records)\n",
    "print(minsup)"
   ]
  },
  {
   "cell_type": "code",
   "execution_count": 4,
   "metadata": {
    "colab": {},
    "colab_type": "code",
    "id": "yjHpJKb2UHNl"
   },
   "outputs": [],
   "source": [
    "from collections import defaultdict\n",
    "d = defaultdict(int)\n",
    "for r in records:\n",
    "  for c in r:\n",
    "    d[frozenset([c])] += 1"
   ]
  },
  {
   "cell_type": "code",
   "execution_count": 5,
   "metadata": {
    "colab": {},
    "colab_type": "code",
    "id": "EO5FsKNbVvTg"
   },
   "outputs": [],
   "source": [
    "with open('patterns-part1.txt', 'w') as out_file:\n",
    "  for k,v in list(d.items()):\n",
    "    if v > minsup:\n",
    "      out_file.write(f\"{v}:{list(k)[0]}\\n\")\n",
    "    else:\n",
    "      d.pop(k)"
   ]
  },
  {
   "cell_type": "markdown",
   "metadata": {
    "colab_type": "text",
    "id": "zHVIIcMfKSt8"
   },
   "source": [
    "##Part 2\n",
    "\n",
    "Please write all the frequent category sets along with their absolute supports into a text file named \"patterns.txt\". Every line corresponds to exactly one frequent category set and should be in the following format:\n",
    "\n",
    "support:category_1;category_2;category_3;...\n",
    "\n",
    "For example, suppose a category set (Fast Food; Restaurants) has an absolute support 2851, then the line corresponding to this frequent category set in \"patterns.txt\" should be:\n",
    "\n",
    "2851:Fast Food;Restaurants"
   ]
  },
  {
   "cell_type": "code",
   "execution_count": 6,
   "metadata": {
    "colab": {},
    "colab_type": "code",
    "id": "PKlzYVJDKW1z"
   },
   "outputs": [],
   "source": [
    "ans = [d]"
   ]
  },
  {
   "cell_type": "code",
   "execution_count": 7,
   "metadata": {
    "colab": {},
    "colab_type": "code",
    "id": "f5d7puZ_9Kn-"
   },
   "outputs": [],
   "source": [
    "def handle_invalid_chars(s):\n",
    "  return s.replace(' ', '_').replace('&','AND').replace('(', 'YY').replace(')', 'ZZ').replace('\\'', 'XX')\n",
    "\n",
    "def revert_original(s):\n",
    "  return s.replace('_', ' ').replace('AND','&').replace('YY', '(').replace('ZZ', ')').replace('XX', '\\'')"
   ]
  },
  {
   "cell_type": "code",
   "execution_count": 8,
   "metadata": {
    "colab": {},
    "colab_type": "code",
    "id": "AyjBnBdAfcPi"
   },
   "outputs": [],
   "source": [
    "row_list = []\n",
    "for r in records:\n",
    "  row_list.append({handle_invalid_chars(c) : 1 for c in r if frozenset([c]) in d})"
   ]
  },
  {
   "cell_type": "code",
   "execution_count": 9,
   "metadata": {
    "colab": {},
    "colab_type": "code",
    "id": "AL_aD6_efcwz"
   },
   "outputs": [],
   "source": [
    "df = pd.DataFrame(row_list, columns=[handle_invalid_chars(list(x)[0]) for x in d.keys()])"
   ]
  },
  {
   "cell_type": "code",
   "execution_count": 10,
   "metadata": {
    "colab": {
     "base_uri": "https://localhost:8080/",
     "height": 224
    },
    "colab_type": "code",
    "id": "tim32jE7hX7J",
    "outputId": "492edf1f-e285-4227-8359-15bbb7013f7a"
   },
   "outputs": [
    {
     "data": {
      "text/html": [
       "<div>\n",
       "<style scoped>\n",
       "    .dataframe tbody tr th:only-of-type {\n",
       "        vertical-align: middle;\n",
       "    }\n",
       "\n",
       "    .dataframe tbody tr th {\n",
       "        vertical-align: top;\n",
       "    }\n",
       "\n",
       "    .dataframe thead th {\n",
       "        text-align: right;\n",
       "    }\n",
       "</style>\n",
       "<table border=\"1\" class=\"dataframe\">\n",
       "  <thead>\n",
       "    <tr style=\"text-align: right;\">\n",
       "      <th></th>\n",
       "      <th>Breakfast_AND_Brunch</th>\n",
       "      <th>American_YYTraditionalZZ</th>\n",
       "      <th>Restaurants</th>\n",
       "      <th>Sandwiches</th>\n",
       "      <th>Local_Services</th>\n",
       "      <th>Italian</th>\n",
       "      <th>Food</th>\n",
       "      <th>Coffee_AND_Tea</th>\n",
       "      <th>Fast_Food</th>\n",
       "      <th>Home_Services</th>\n",
       "      <th>...</th>\n",
       "      <th>Pets</th>\n",
       "      <th>Specialty_Food</th>\n",
       "      <th>Mexican</th>\n",
       "      <th>Pubs</th>\n",
       "      <th>Sushi_Bars</th>\n",
       "      <th>Japanese</th>\n",
       "      <th>Professional_Services</th>\n",
       "      <th>Financial_Services</th>\n",
       "      <th>Dentists</th>\n",
       "      <th>General_Dentistry</th>\n",
       "    </tr>\n",
       "  </thead>\n",
       "  <tbody>\n",
       "    <tr>\n",
       "      <th>0</th>\n",
       "      <td>1.0</td>\n",
       "      <td>1.0</td>\n",
       "      <td>1.0</td>\n",
       "      <td>NaN</td>\n",
       "      <td>NaN</td>\n",
       "      <td>NaN</td>\n",
       "      <td>NaN</td>\n",
       "      <td>NaN</td>\n",
       "      <td>NaN</td>\n",
       "      <td>NaN</td>\n",
       "      <td>...</td>\n",
       "      <td>NaN</td>\n",
       "      <td>NaN</td>\n",
       "      <td>NaN</td>\n",
       "      <td>NaN</td>\n",
       "      <td>NaN</td>\n",
       "      <td>NaN</td>\n",
       "      <td>NaN</td>\n",
       "      <td>NaN</td>\n",
       "      <td>NaN</td>\n",
       "      <td>NaN</td>\n",
       "    </tr>\n",
       "    <tr>\n",
       "      <th>1</th>\n",
       "      <td>NaN</td>\n",
       "      <td>NaN</td>\n",
       "      <td>1.0</td>\n",
       "      <td>1.0</td>\n",
       "      <td>NaN</td>\n",
       "      <td>NaN</td>\n",
       "      <td>NaN</td>\n",
       "      <td>NaN</td>\n",
       "      <td>NaN</td>\n",
       "      <td>NaN</td>\n",
       "      <td>...</td>\n",
       "      <td>NaN</td>\n",
       "      <td>NaN</td>\n",
       "      <td>NaN</td>\n",
       "      <td>NaN</td>\n",
       "      <td>NaN</td>\n",
       "      <td>NaN</td>\n",
       "      <td>NaN</td>\n",
       "      <td>NaN</td>\n",
       "      <td>NaN</td>\n",
       "      <td>NaN</td>\n",
       "    </tr>\n",
       "    <tr>\n",
       "      <th>2</th>\n",
       "      <td>NaN</td>\n",
       "      <td>NaN</td>\n",
       "      <td>NaN</td>\n",
       "      <td>NaN</td>\n",
       "      <td>1.0</td>\n",
       "      <td>NaN</td>\n",
       "      <td>NaN</td>\n",
       "      <td>NaN</td>\n",
       "      <td>NaN</td>\n",
       "      <td>NaN</td>\n",
       "      <td>...</td>\n",
       "      <td>NaN</td>\n",
       "      <td>NaN</td>\n",
       "      <td>NaN</td>\n",
       "      <td>NaN</td>\n",
       "      <td>NaN</td>\n",
       "      <td>NaN</td>\n",
       "      <td>NaN</td>\n",
       "      <td>NaN</td>\n",
       "      <td>NaN</td>\n",
       "      <td>NaN</td>\n",
       "    </tr>\n",
       "    <tr>\n",
       "      <th>3</th>\n",
       "      <td>NaN</td>\n",
       "      <td>NaN</td>\n",
       "      <td>1.0</td>\n",
       "      <td>NaN</td>\n",
       "      <td>NaN</td>\n",
       "      <td>1.0</td>\n",
       "      <td>NaN</td>\n",
       "      <td>NaN</td>\n",
       "      <td>NaN</td>\n",
       "      <td>NaN</td>\n",
       "      <td>...</td>\n",
       "      <td>NaN</td>\n",
       "      <td>NaN</td>\n",
       "      <td>NaN</td>\n",
       "      <td>NaN</td>\n",
       "      <td>NaN</td>\n",
       "      <td>NaN</td>\n",
       "      <td>NaN</td>\n",
       "      <td>NaN</td>\n",
       "      <td>NaN</td>\n",
       "      <td>NaN</td>\n",
       "    </tr>\n",
       "    <tr>\n",
       "      <th>4</th>\n",
       "      <td>NaN</td>\n",
       "      <td>NaN</td>\n",
       "      <td>NaN</td>\n",
       "      <td>NaN</td>\n",
       "      <td>NaN</td>\n",
       "      <td>NaN</td>\n",
       "      <td>1.0</td>\n",
       "      <td>1.0</td>\n",
       "      <td>NaN</td>\n",
       "      <td>NaN</td>\n",
       "      <td>...</td>\n",
       "      <td>NaN</td>\n",
       "      <td>NaN</td>\n",
       "      <td>NaN</td>\n",
       "      <td>NaN</td>\n",
       "      <td>NaN</td>\n",
       "      <td>NaN</td>\n",
       "      <td>NaN</td>\n",
       "      <td>NaN</td>\n",
       "      <td>NaN</td>\n",
       "      <td>NaN</td>\n",
       "    </tr>\n",
       "  </tbody>\n",
       "</table>\n",
       "<p>5 rows × 50 columns</p>\n",
       "</div>"
      ],
      "text/plain": [
       "   Breakfast_AND_Brunch  American_YYTraditionalZZ  Restaurants  Sandwiches  \\\n",
       "0                   1.0                       1.0          1.0         NaN   \n",
       "1                   NaN                       NaN          1.0         1.0   \n",
       "2                   NaN                       NaN          NaN         NaN   \n",
       "3                   NaN                       NaN          1.0         NaN   \n",
       "4                   NaN                       NaN          NaN         NaN   \n",
       "\n",
       "   Local_Services  Italian  Food  Coffee_AND_Tea  Fast_Food  Home_Services  \\\n",
       "0             NaN      NaN   NaN             NaN        NaN            NaN   \n",
       "1             NaN      NaN   NaN             NaN        NaN            NaN   \n",
       "2             1.0      NaN   NaN             NaN        NaN            NaN   \n",
       "3             NaN      1.0   NaN             NaN        NaN            NaN   \n",
       "4             NaN      NaN   1.0             1.0        NaN            NaN   \n",
       "\n",
       "   ...  Pets  Specialty_Food  Mexican  Pubs  Sushi_Bars  Japanese  \\\n",
       "0  ...   NaN             NaN      NaN   NaN         NaN       NaN   \n",
       "1  ...   NaN             NaN      NaN   NaN         NaN       NaN   \n",
       "2  ...   NaN             NaN      NaN   NaN         NaN       NaN   \n",
       "3  ...   NaN             NaN      NaN   NaN         NaN       NaN   \n",
       "4  ...   NaN             NaN      NaN   NaN         NaN       NaN   \n",
       "\n",
       "   Professional_Services  Financial_Services  Dentists  General_Dentistry  \n",
       "0                    NaN                 NaN       NaN                NaN  \n",
       "1                    NaN                 NaN       NaN                NaN  \n",
       "2                    NaN                 NaN       NaN                NaN  \n",
       "3                    NaN                 NaN       NaN                NaN  \n",
       "4                    NaN                 NaN       NaN                NaN  \n",
       "\n",
       "[5 rows x 50 columns]"
      ]
     },
     "execution_count": 10,
     "metadata": {},
     "output_type": "execute_result"
    }
   ],
   "source": [
    "df.head()"
   ]
  },
  {
   "cell_type": "code",
   "execution_count": 11,
   "metadata": {
    "colab": {
     "base_uri": "https://localhost:8080/",
     "height": 34
    },
    "colab_type": "code",
    "id": "kTTPsLpe_mt8",
    "outputId": "87c7f332-f61b-415b-c8f0-48f404e52ad4"
   },
   "outputs": [
    {
     "data": {
      "text/plain": [
       "50"
      ]
     },
     "execution_count": 11,
     "metadata": {},
     "output_type": "execute_result"
    }
   ],
   "source": [
    "len(ans[0].keys())"
   ]
  },
  {
   "cell_type": "code",
   "execution_count": 12,
   "metadata": {
    "colab": {},
    "colab_type": "code",
    "id": "bnGTnmcEht09"
   },
   "outputs": [],
   "source": [
    "k = 1\n",
    "while True:\n",
    "  dk = defaultdict(int)\n",
    "  keys = list(ans[k-1].keys())\n",
    "  num_items = len(keys)\n",
    "  for i in range(num_items):\n",
    "    item1 = keys[i]\n",
    "    for j in range(i+1, num_items):\n",
    "      item2 = keys[j]\n",
    "      diff = item2 - item1\n",
    "      if len(diff) == 1:\n",
    "        candidate = item1.union(diff)\n",
    "        query = ' & '.join([f'{handle_invalid_chars(c)}==1' for c in candidate])\n",
    "        if df.query(query).shape[0] >= minsup:\n",
    "          #print(candidate)\n",
    "          #print(df.query(query).shape[0])\n",
    "          dk[candidate] = df.query(query).shape[0]\n",
    "  if len(dk) > 0:\n",
    "    ans.append(dk)\n",
    "    k += 1\n",
    "  else:\n",
    "    break;"
   ]
  },
  {
   "cell_type": "code",
   "execution_count": 13,
   "metadata": {
    "colab": {
     "base_uri": "https://localhost:8080/",
     "height": 1000
    },
    "colab_type": "code",
    "id": "K5SFcB-WMTZ3",
    "outputId": "0d73c0ff-c30f-4436-d65d-6944e0b15150"
   },
   "outputs": [
    {
     "data": {
      "text/plain": [
       "[defaultdict(int,\n",
       "             {frozenset({'Breakfast & Brunch'}): 1369,\n",
       "              frozenset({'American (Traditional)'}): 2416,\n",
       "              frozenset({'Restaurants'}): 25071,\n",
       "              frozenset({'Sandwiches'}): 2364,\n",
       "              frozenset({'Local Services'}): 3468,\n",
       "              frozenset({'Italian'}): 1848,\n",
       "              frozenset({'Food'}): 9250,\n",
       "              frozenset({'Coffee & Tea'}): 2199,\n",
       "              frozenset({'Fast Food'}): 2851,\n",
       "              frozenset({'Home Services'}): 4785,\n",
       "              frozenset({'Real Estate'}): 1424,\n",
       "              frozenset({'Bars'}): 4328,\n",
       "              frozenset({'Sports Bars'}): 818,\n",
       "              frozenset({'Nightlife'}): 5088,\n",
       "              frozenset({'American (New)'}): 1593,\n",
       "              frozenset({'Automotive'}): 4208,\n",
       "              frozenset({'Grocery'}): 1424,\n",
       "              frozenset({'Event Planning & Services'}): 2975,\n",
       "              frozenset({'Shopping'}): 11233,\n",
       "              frozenset({'Home & Garden'}): 1586,\n",
       "              frozenset({'Auto Repair'}): 1716,\n",
       "              frozenset({'Burgers'}): 1774,\n",
       "              frozenset({'Pizza'}): 2657,\n",
       "              frozenset({'Beauty & Spas'}): 6583,\n",
       "              frozenset({'Active Life'}): 3103,\n",
       "              frozenset({'Ice Cream & Frozen Yogurt'}): 1018,\n",
       "              frozenset({'Hair Salons'}): 2091,\n",
       "              frozenset({'Doctors'}): 1694,\n",
       "              frozenset({'Health & Medical'}): 5121,\n",
       "              frozenset({'Arts & Entertainment'}): 2271,\n",
       "              frozenset({'Cafes'}): 1002,\n",
       "              frozenset({'Bakeries'}): 1115,\n",
       "              frozenset({'Hotels & Travel'}): 2495,\n",
       "              frozenset({'Hotels'}): 1431,\n",
       "              frozenset({'Fitness & Instruction'}): 1442,\n",
       "              frozenset({'Nail Salons'}): 1667,\n",
       "              frozenset({'Fashion'}): 3078,\n",
       "              frozenset({'Chinese'}): 1629,\n",
       "              frozenset({\"Women's Clothing\"}): 1138,\n",
       "              frozenset({'Pet Services'}): 870,\n",
       "              frozenset({'Pets'}): 1497,\n",
       "              frozenset({'Specialty Food'}): 1150,\n",
       "              frozenset({'Mexican'}): 2515,\n",
       "              frozenset({'Pubs'}): 874,\n",
       "              frozenset({'Sushi Bars'}): 798,\n",
       "              frozenset({'Japanese'}): 848,\n",
       "              frozenset({'Professional Services'}): 1025,\n",
       "              frozenset({'Financial Services'}): 875,\n",
       "              frozenset({'Dentists'}): 1195,\n",
       "              frozenset({'General Dentistry'}): 823}),\n",
       " defaultdict(int,\n",
       "             {frozenset({'Breakfast & Brunch', 'Restaurants'}): 1369,\n",
       "              frozenset({'American (Traditional)', 'Restaurants'}): 2416,\n",
       "              frozenset({'Restaurants', 'Sandwiches'}): 2364,\n",
       "              frozenset({'Italian', 'Restaurants'}): 1848,\n",
       "              frozenset({'Food', 'Restaurants'}): 2101,\n",
       "              frozenset({'Fast Food', 'Restaurants'}): 2851,\n",
       "              frozenset({'Bars', 'Restaurants'}): 2423,\n",
       "              frozenset({'Nightlife', 'Restaurants'}): 2533,\n",
       "              frozenset({'American (New)', 'Restaurants'}): 1593,\n",
       "              frozenset({'Burgers', 'Restaurants'}): 1774,\n",
       "              frozenset({'Pizza', 'Restaurants'}): 2657,\n",
       "              frozenset({'Cafes', 'Restaurants'}): 1002,\n",
       "              frozenset({'Chinese', 'Restaurants'}): 1629,\n",
       "              frozenset({'Mexican', 'Restaurants'}): 2515,\n",
       "              frozenset({'Restaurants', 'Sushi Bars'}): 798,\n",
       "              frozenset({'Japanese', 'Restaurants'}): 848,\n",
       "              frozenset({'Coffee & Tea', 'Food'}): 2199,\n",
       "              frozenset({'Food', 'Grocery'}): 1424,\n",
       "              frozenset({'Food', 'Ice Cream & Frozen Yogurt'}): 1018,\n",
       "              frozenset({'Bakeries', 'Food'}): 1115,\n",
       "              frozenset({'Food', 'Specialty Food'}): 1150,\n",
       "              frozenset({'Burgers', 'Fast Food'}): 774,\n",
       "              frozenset({'Home Services', 'Real Estate'}): 1424,\n",
       "              frozenset({'Bars', 'Sports Bars'}): 818,\n",
       "              frozenset({'Bars', 'Nightlife'}): 4328,\n",
       "              frozenset({'Bars', 'Pubs'}): 874,\n",
       "              frozenset({'Nightlife', 'Sports Bars'}): 818,\n",
       "              frozenset({'Nightlife', 'Pubs'}): 874,\n",
       "              frozenset({'Auto Repair', 'Automotive'}): 1716,\n",
       "              frozenset({'Event Planning & Services',\n",
       "                         'Hotels & Travel'}): 1471,\n",
       "              frozenset({'Event Planning & Services', 'Hotels'}): 1431,\n",
       "              frozenset({'Home & Garden', 'Shopping'}): 1586,\n",
       "              frozenset({'Fashion', 'Shopping'}): 3078,\n",
       "              frozenset({'Shopping', \"Women's Clothing\"}): 1138,\n",
       "              frozenset({'Beauty & Spas', 'Hair Salons'}): 2091,\n",
       "              frozenset({'Beauty & Spas', 'Nail Salons'}): 1667,\n",
       "              frozenset({'Active Life', 'Fitness & Instruction'}): 1442,\n",
       "              frozenset({'Doctors', 'Health & Medical'}): 1694,\n",
       "              frozenset({'Dentists', 'Health & Medical'}): 1195,\n",
       "              frozenset({'General Dentistry', 'Health & Medical'}): 823,\n",
       "              frozenset({'Hotels', 'Hotels & Travel'}): 1431,\n",
       "              frozenset({'Fashion', \"Women's Clothing\"}): 1138,\n",
       "              frozenset({'Pet Services', 'Pets'}): 870,\n",
       "              frozenset({'Dentists', 'General Dentistry'}): 823}),\n",
       " defaultdict(int,\n",
       "             {frozenset({'Burgers', 'Fast Food', 'Restaurants'}): 774,\n",
       "              frozenset({'Bars', 'Nightlife', 'Restaurants'}): 2423,\n",
       "              frozenset({'Bars', 'Nightlife', 'Sports Bars'}): 818,\n",
       "              frozenset({'Bars', 'Nightlife', 'Pubs'}): 874,\n",
       "              frozenset({'Event Planning & Services',\n",
       "                         'Hotels',\n",
       "                         'Hotels & Travel'}): 1431,\n",
       "              frozenset({'Fashion', 'Shopping', \"Women's Clothing\"}): 1138,\n",
       "              frozenset({'Dentists',\n",
       "                         'General Dentistry',\n",
       "                         'Health & Medical'}): 823})]"
      ]
     },
     "execution_count": 13,
     "metadata": {},
     "output_type": "execute_result"
    }
   ],
   "source": [
    "ans"
   ]
  },
  {
   "cell_type": "code",
   "execution_count": 14,
   "metadata": {
    "colab": {},
    "colab_type": "code",
    "id": "q86DNJDepICJ"
   },
   "outputs": [],
   "source": [
    "with open('patterns-part2.txt', 'w') as out_file:\n",
    "  for items in ans:\n",
    "    for k,v in list(items.items()):\n",
    "      out_file.write(f\"{v}:{';'.join(list(k))}\\n\")"
   ]
  },
  {
   "cell_type": "code",
   "execution_count": 0,
   "metadata": {
    "colab": {},
    "colab_type": "code",
    "id": "g2jP-5RcL9bt"
   },
   "outputs": [],
   "source": []
  }
 ],
 "metadata": {
  "colab": {
   "collapsed_sections": [],
   "name": "Pattern Discovery in Data Mining - Frequent Itemset Mining Using Apriori.ipynb",
   "provenance": []
  },
  "kernelspec": {
   "display_name": "Python 3",
   "language": "python",
   "name": "python3"
  },
  "language_info": {
   "codemirror_mode": {
    "name": "ipython",
    "version": 3
   },
   "file_extension": ".py",
   "mimetype": "text/x-python",
   "name": "python",
   "nbconvert_exporter": "python",
   "pygments_lexer": "ipython3",
   "version": "3.8.8"
  }
 },
 "nbformat": 4,
 "nbformat_minor": 1
}
